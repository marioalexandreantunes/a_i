{
 "cells": [
  {
   "cell_type": "code",
   "execution_count": 1,
   "metadata": {},
   "outputs": [],
   "source": [
    "from transformers import Trainer, TrainingArguments, AutoTokenizer, AutoModelForCausalLM\n",
    "import json\n",
    "import torch\n",
    "from datasets import load_dataset\n",
    "\n",
    "device = 'cuda' if torch.cuda.is_available() else 'cpu'"
   ]
  },
  {
   "cell_type": "code",
   "execution_count": 2,
   "metadata": {},
   "outputs": [],
   "source": [
    "# Carregar o tokenizer e o modelo\n",
    "model_name = 'microsoft/phi-1_5'\n",
    "tokenizer = AutoTokenizer.from_pretrained(model_name)\n",
    "model = AutoModelForCausalLM.from_pretrained(model_name).to(device)"
   ]
  },
  {
   "cell_type": "code",
   "execution_count": 3,
   "metadata": {},
   "outputs": [],
   "source": [
    "# Carregar os dados do arquivo JSON\n",
    "with open('seus_dados.json', 'r') as f:\n",
    "    data = json.load(f)\n",
    "\n",
    "# Estrutura do dataset dos dados no formato Alpaca (ou similar)\n",
    "# O formato deve conter campos como 'prompt' e 'completion'\n",
    "train_data = [\n",
    "    {'prompt': item['prompt'], 'completion': item['completion']} \n",
    "    for item in data\n",
    "]\n",
    "\n",
    "# Criar um dataset para o treinamento\n",
    "from datasets import Dataset\n",
    "train_dataset = Dataset.from_list(train_data)"
   ]
  },
  {
   "cell_type": "code",
   "execution_count": 4,
   "metadata": {},
   "outputs": [],
   "source": [
    "# Tokenize os dados\n",
    "def tokenize_function(examples):\n",
    "    return tokenizer(examples['prompt'], truncation=True,\n",
    "                     padding='max_length', max_length=512)\n",
    "\n",
    "tokenized_datasets = train_dataset.map(tokenize_function, batched=True)"
   ]
  },
  {
   "cell_type": "code",
   "execution_count": 5,
   "metadata": {},
   "outputs": [],
   "source": [
    "# Configuração do treinamento\n",
    "training_args = TrainingArguments(\n",
    "    output_dir='./results',\n",
    "    per_device_train_batch_size=4,\n",
    "    gradient_accumulation_steps=8,\n",
    "    num_train_epochs=3,\n",
    "    logging_dir='./logs',\n",
    "    logging_steps=10,\n",
    "    save_steps=500,\n",
    "    save_total_limit=2,\n",
    "    fp16=True,\n",
    "    eval_strategy='steps',\n",
    ")\n",
    "\n",
    "# Treinador\n",
    "trainer = Trainer(\n",
    "    model=model,\n",
    "    args=training_args,\n",
    "    train_dataset=tokenized_datasets,\n",
    "    # eval_dataset=val_dataset  # Você pode adicionar um conjunto de validação aqui\n",
    ")"
   ]
  },
  {
   "cell_type": "code",
   "execution_count": 6,
   "metadata": {},
   "outputs": [],
   "source": [
    "# Iniciar o treinamento\n",
    "trainer.train()"
   ]
  },
  {
   "cell_type": "code",
   "execution_count": 7,
   "metadata": {},
   "outputs": [],
   "source": [
    "# Salvar o modelo finamente ajustado\n",
    "trainer.save_model('./meu_modelo')\n",
    "tokenizer.save_pretrained('./meu_modelo')"
   ]
  }
 ],
 "metadata": {
  "kernelspec": {
   "name": "python3",
   "display_name": "Python 3"
  },
  "language_info": {
   "name": "python",
   "version": "3.8.5",
   "mimetype": "text/x-python",
   "fileextension": ".py",
   "codemirror_mode": {
    "name": "ipython",
    "version": 3
   },
   "pygments_lexer": "ipython3",
   "nbconvert_exporter": "python",
   "capture_rate": 0.9
  }
 },
 "nbformat": 4,
 "nbformat_minor": 4
}
